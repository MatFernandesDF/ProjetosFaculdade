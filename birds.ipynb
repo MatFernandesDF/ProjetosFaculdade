{
  "nbformat": 4,
  "nbformat_minor": 0,
  "metadata": {
    "colab": {
      "provenance": [],
      "collapsed_sections": []
    },
    "kernelspec": {
      "name": "python3",
      "display_name": "Python 3"
    },
    "language_info": {
      "name": "python"
    }
  },
  "cells": [
    {
      "cell_type": "markdown",
      "source": [
        "## Livrarias e variaveis"
      ],
      "metadata": {
        "id": "Pyi3wiGzzn2V"
      }
    },
    {
      "cell_type": "code",
      "source": [
        "import matplotlib.pyplot as plt\n",
        "import numpy as np\n",
        "import imageio\n",
        "import os\n",
        "\n",
        "# Simulando os parametros\n",
        "v0 = 0.5  # velocidade\n",
        "T = 0.8  # flutuação aleatória no ângulo (em radianos)\n",
        "L = 12  # tamanho da caixa\n",
        "R = 1.6  # raio de interação\n",
        "dt = 0.1  # Passos dados por tempo\n",
        "Nt = 200  # Numero de paradas\n",
        "N = 100  # Quantidade de passaros\n",
        "plotRealTime = True # Interação em tempo real\n",
        "images_path = [] # Caminho das imagens \n",
        "image = [] # converte as imagens para imageo \n",
        "git_name = 'birdsfly.gif' # nome do gif a ser gerado "
      ],
      "metadata": {
        "id": "mwyW5Rg8zyX_"
      },
      "execution_count": 2,
      "outputs": []
    },
    {
      "cell_type": "markdown",
      "source": [
        "## Geração das cenas"
      ],
      "metadata": {
        "id": "MiyY2qee1EUS"
      }
    },
    {
      "cell_type": "code",
      "source": [
        "# inicialização\n",
        "np.random.seed(30)  # seleciona o numero de birds aleatorios\n",
        "\n",
        "# posição dos passaros\n",
        "x = np.random.rand(N, 1) * L\n",
        "y = np.random.rand(N, 1) * L\n",
        "\n",
        "# velocidade dos passaros\n",
        "t = 2 * np.pi * np.random.rand(N, 1)\n",
        "vx = v0 * np.cos(t)\n",
        "vy = v0 * np.sin(t)\n",
        "\n",
        "# preparação das figuras\n",
        "fig = plt.figure(figsize=(6, 6), dpi=96)\n",
        "ax = plt.gca()\n",
        "\n",
        "# simulação do loop \n",
        "for i in range(Nt):\n",
        "\n",
        "    # movimento \n",
        "    x += vx * dt\n",
        "    y += vy * dt\n",
        "\n",
        "    # aplicação das formulas bc\n",
        "    x = x % L\n",
        "    y = y % L\n",
        "\n",
        "    # define o angulo medio dos passaros proximos\n",
        "    mean_t = t\n",
        "    for b in range(N):\n",
        "        neighbors = (x - x[b]) ** 2 + (y - y[b]) ** 2 < R ** 2\n",
        "        sx = np.sum(np.cos(t[neighbors]))\n",
        "        sy = np.sum(np.sin(t[neighbors]))\n",
        "        mean_t[b] = np.arctan2(sy, sx)\n",
        "\n",
        "    # adicionar pertubação \n",
        "    t = mean_t + T * (np.random.rand(N, 1) - 0.5)\n",
        "\n",
        "    # atualização de velocidade\n",
        "    vx = v0 * np.cos(t)\n",
        "    vy = v0 * np.sin(t)\n",
        "\n",
        "    # cenas em tempo real \n",
        "    if plotRealTime or (i == Nt - 1):\n",
        "        plt.cla()\n",
        "        plt.quiver(x, y, vx, vy, color='r')\n",
        "        plt.savefig(f'image{i}.png') # gerando o arquivo png\n",
        "        plt.close()\n",
        "        images_path.append(f'image{i}.png') # armazenar os pngs para criação dos gifs\n",
        "        ax.set(xlim=(0, L), ylim=(0, L))\n",
        "        ax.set_aspect('equal')\n",
        "        plt.pause(0.001)"
      ],
      "metadata": {
        "id": "lhm732zP1MgS"
      },
      "execution_count": 3,
      "outputs": []
    },
    {
      "cell_type": "markdown",
      "source": [
        "## Criando array para nomear os pngs e  criando caminho para os armazenar os gifs\n",
        "\n"
      ],
      "metadata": {
        "id": "bl8KeVkq22Fy"
      }
    },
    {
      "cell_type": "code",
      "source": [
        "for filename in images_path:\n",
        "  image.append(imageio.imread(filename))\n",
        "if not os.path.exists('temp'):\n",
        "  os.system('mkdir temp')\n",
        "else:\n",
        "  os.system('rm temp/birdsfly.gif')\n",
        "\n",
        "imageio.mimwrite('temp/myplotgif.gif', image, fps=20)"
      ],
      "metadata": {
        "id": "kwnlM_nb258i"
      },
      "execution_count": 9,
      "outputs": []
    },
    {
      "cell_type": "markdown",
      "source": [
        "## Excluindo os pngs criados e Excluindo os laços de repetições"
      ],
      "metadata": {
        "id": "zIQb2bui3Uee"
      }
    },
    {
      "cell_type": "code",
      "source": [
        "for filename in images_path:\n",
        "  os.system(f'rm {filename}')\n",
        "\n",
        "images_path.clear()\n",
        "image.clear()"
      ],
      "metadata": {
        "id": "YpwkvOfq3jSv"
      },
      "execution_count": 10,
      "outputs": []
    }
  ]
}